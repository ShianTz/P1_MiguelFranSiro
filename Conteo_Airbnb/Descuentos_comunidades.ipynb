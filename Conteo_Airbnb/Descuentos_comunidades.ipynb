{
 "cells": [
  {
   "cell_type": "code",
   "execution_count": 1,
   "id": "8f673ff9-4cef-4822-be6a-44898e91c1ae",
   "metadata": {},
   "outputs": [],
   "source": [
    "import pandas as pd\n",
    "\n",
    "# Leer el archivo CSV\n",
    "df = pd.read_csv('precio_descuento_limpio.csv')\n",
    "\n",
    "# Asegúrate de que la columna que contiene la información sobre las comunidades se llame 'comunidad' en tu archivo\n",
    "# Si no es así, cambia 'comunidad' a la columna correcta en tu archivo\n",
    "conteo_comunidades = df['comunidad'].value_counts()\n",
    "\n",
    "# Convertir la Serie a un DataFrame para exportarlo a CSV\n",
    "conteo_comunidades_df = conteo_comunidades.reset_index()\n",
    "conteo_comunidades_df.columns = ['Comunidad', 'Count']\n",
    "\n",
    "# Exportar a CSV\n",
    "conteo_comunidades_df.to_csv('conteo_comunidades.csv', index=False)\n"
   ]
  }
 ],
 "metadata": {
  "kernelspec": {
   "display_name": "Python 3 (ipykernel)",
   "language": "python",
   "name": "python3"
  },
  "language_info": {
   "codemirror_mode": {
    "name": "ipython",
    "version": 3
   },
   "file_extension": ".py",
   "mimetype": "text/x-python",
   "name": "python",
   "nbconvert_exporter": "python",
   "pygments_lexer": "ipython3",
   "version": "3.10.9"
  }
 },
 "nbformat": 4,
 "nbformat_minor": 5
}
