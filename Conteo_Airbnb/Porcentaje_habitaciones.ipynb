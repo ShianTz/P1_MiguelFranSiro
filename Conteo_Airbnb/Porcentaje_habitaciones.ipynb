{
 "cells": [
  {
   "cell_type": "code",
   "execution_count": 13,
   "id": "ba8cb8da-5b02-4475-8a15-d58bcd4eac82",
   "metadata": {},
   "outputs": [],
   "source": [
    "import pandas as pd\n",
    "\n",
    "# Leer los archivos CSV\n",
    "conteo_total_habitaciones = pd.read_csv('conteo_total_habitaciones.csv')\n",
    "conteo_total_airbnb = pd.read_csv('conteo_comunidades_total_airbnb.csv')\n",
    "precio_descuento = pd.read_csv('conteo_descuento_comunidades.csv')\n",
    "\n",
    "# Cambiar los nombres de las columnas para hacerlos específicos\n",
    "conteo_total_habitaciones.columns = ['Comunidad', 'Conteo_limpio']\n",
    "conteo_total_airbnb.columns = ['Comunidad', 'habitaciones']\n",
    "precio_descuento.columns = ['Comunidad', 'descuento']\n",
    "\n",
    "# Fusionar los archivos alineando por la columna 'Comunidad'\n",
    "merged_data = pd.merge(conteo_total_habitaciones, conteo_total_airbnb, on='Comunidad')\n",
    "merged_data = pd.merge(merged_data, precio_descuento, on='Comunidad')\n",
    "\n",
    "# Sumar las columnas de conteo para cada comunidad\n",
    "merged_data['suma_con_habitaciones'] = merged_data['Conteo_limpio'] + merged_data['habitaciones']\n",
    "\n",
    "# Calcular el porcentaje de habitaciones\n",
    "merged_data['porcentaje_habitaciones'] = (merged_data['Conteo_limpio'] / merged_data['suma_con_habitaciones']) * 100\n",
    "\n",
    "# Calcular la suma de Conteo_limpio y descuento\n",
    "merged_data['suma_con_descuento'] = merged_data['Conteo_limpio'] + merged_data['descuento']\n",
    "\n",
    "# Calcular el porcentaje que supone el descuento en la suma de Conteo_limpio y descuento\n",
    "merged_data['porcentaje_descuento'] = (merged_data['descuento'] / merged_data['suma_con_descuento']) * 100\n",
    "\n",
    "# Guardar el resultado en un nuevo archivo CSV\n",
    "merged_data.to_csv('porcentaje_habitaciones_precio_comunidad.csv', index=False)\n",
    "\n",
    "\n",
    "\n"
   ]
  }
 ],
 "metadata": {
  "kernelspec": {
   "display_name": "Python 3 (ipykernel)",
   "language": "python",
   "name": "python3"
  },
  "language_info": {
   "codemirror_mode": {
    "name": "ipython",
    "version": 3
   },
   "file_extension": ".py",
   "mimetype": "text/x-python",
   "name": "python",
   "nbconvert_exporter": "python",
   "pygments_lexer": "ipython3",
   "version": "3.10.9"
  }
 },
 "nbformat": 4,
 "nbformat_minor": 5
}
