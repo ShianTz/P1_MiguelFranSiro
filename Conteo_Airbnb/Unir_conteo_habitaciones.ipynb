{
 "cells": [
  {
   "cell_type": "code",
   "execution_count": 1,
   "id": "f5e14a44-82b6-4ba3-956e-08860e2be1cd",
   "metadata": {},
   "outputs": [],
   "source": [
    "import pandas as pd\n",
    "\n",
    "# Leer ambos archivos CSV\n",
    "conteo_canarias_habitaciones = pd.read_csv('conteo_comunidades_canarias_habitaciones.csv')\n",
    "conteo_habitaciones = pd.read_csv('conteo_comunidades_habitaciones.csv')\n",
    "\n",
    "# Concatenar los dos DataFrames\n",
    "conteo_total_habitaciones = pd.concat([conteo_habitaciones, conteo_canarias_habitaciones], ignore_index=True)\n",
    "\n",
    "# Si quieres sumar las cuentas de las comunidades que aparecen en ambos archivos, puedes agrupar por la columna 'Comunidad' y sumar los conteos\n",
    "conteo_total_habitaciones = conteo_total_habitaciones.groupby('Comunidad').sum().reset_index()\n",
    "\n",
    "# Exportar a CSV\n",
    "conteo_total_habitaciones.to_csv('conteo_total_habitaciones.csv', index=False)\n"
   ]
  }
 ],
 "metadata": {
  "kernelspec": {
   "display_name": "Python 3 (ipykernel)",
   "language": "python",
   "name": "python3"
  },
  "language_info": {
   "codemirror_mode": {
    "name": "ipython",
    "version": 3
   },
   "file_extension": ".py",
   "mimetype": "text/x-python",
   "name": "python",
   "nbconvert_exporter": "python",
   "pygments_lexer": "ipython3",
   "version": "3.10.9"
  }
 },
 "nbformat": 4,
 "nbformat_minor": 5
}
