{
 "cells": [
  {
   "cell_type": "code",
   "execution_count": null,
   "id": "1d0de896-63f8-4f46-b726-42a9a482a8b2",
   "metadata": {},
   "outputs": [],
   "source": [
    "import pandas as pd\n",
    "\n",
    "\n",
    "df = pd.read_csv(\"info_canarias1.csv\")\n",
    "\n",
    "\n",
    "df_precio_nulo = df[df[\"precio\"].isna() & df.drop(columns='precio').notna().all(axis=1)]\n",
    "\n",
    "\n",
    "df_habitaciones = df[df[\"precio\"].isna() & df[[\"n_evaluaciones\", \"valoracion\", \"nunmero_banos\", \"nunmero_camas\", \"n_dormitorios\"]].isna().all(axis=1)]\n",
    "\n",
    "\n",
    "\n",
    "df_limpio = df.dropna()\n",
    "\n",
    "\n",
    "df_precio_nulo.to_csv('info_canarias_precio_nulo.csv', index=False)\n",
    "df_habitaciones.to_csv('info_canarias_habitaciones.csv', index=False)\n",
    "df_limpio.to_csv('iinfo_canarias_total.csv', index=False)\n"
   ]
  },
  {
   "cell_type": "code",
   "execution_count": null,
   "id": "3717a1ec-363e-466d-b59b-c0155c3fd856",
   "metadata": {},
   "outputs": [],
   "source": [
    "df_precio_nulo"
   ]
  },
  {
   "cell_type": "code",
   "execution_count": null,
   "id": "595e6b31-5966-4cc3-91e4-e9b1aa28a3eb",
   "metadata": {},
   "outputs": [],
   "source": [
    "num_filas = df_precio_nulo.shape[0]\n",
    "print(f\"El DataFrame df_precio_nulo tiene {num_filas} filas.\")\n"
   ]
  },
  {
   "cell_type": "code",
   "execution_count": null,
   "id": "24a592a1-4263-46e2-a757-c6e3c7bc893e",
   "metadata": {},
   "outputs": [],
   "source": [
    "df_habitaciones"
   ]
  },
  {
   "cell_type": "code",
   "execution_count": null,
   "id": "a319a121-c8f4-413d-a3c9-707c74965ae8",
   "metadata": {},
   "outputs": [],
   "source": [
    "num_filas = df_habitaciones.shape[0]\n",
    "print(f\"El DataFrame df_otras_columnas_nulas tiene {num_filas} filas.\")"
   ]
  },
  {
   "cell_type": "code",
   "execution_count": null,
   "id": "1f6c18e5-991f-42e7-8bcd-588d20ac25e7",
   "metadata": {},
   "outputs": [],
   "source": [
    "df_completo"
   ]
  },
  {
   "cell_type": "code",
   "execution_count": null,
   "id": "47cef4c4-1a00-43d3-8009-479052d15c86",
   "metadata": {},
   "outputs": [],
   "source": [
    "num_filas = df_completo.shape[0]\n",
    "print(f\"El DataFrame df_completo tiene {num_filas} filas.\")\n"
   ]
  },
  {
   "cell_type": "code",
   "execution_count": null,
   "id": "6b6dc04f-1265-4b96-b917-c97b5fe6134c",
   "metadata": {},
   "outputs": [],
   "source": []
  },
  {
   "cell_type": "code",
   "execution_count": null,
   "id": "4dff4f22-dda7-40ab-a7d7-3b41b2988df8",
   "metadata": {},
   "outputs": [],
   "source": [
    "#Limpieza datos df total, columnas nuevas"
   ]
  },
  {
   "cell_type": "code",
   "execution_count": null,
   "id": "57d7a76c-c2da-45d1-a1ca-91d12a7b7896",
   "metadata": {},
   "outputs": [],
   "source": [
    "import pandas as pd\n",
    "import numpy as np\n",
    "\n",
    "\n",
    "df = pd.read_csv(\"info_canarias.csv\")\n",
    "\n",
    "\n",
    "if 'nunmero_camas' not in df.columns:\n",
    "    df['nunmero_camas'] = np.nan\n",
    "if 'nunmero_banos' not in df.columns:\n",
    "    df['nunmero_banos'] = np.nan\n",
    "\n",
    "\n",
    "df[\"nunmero_camas\"] = df[\"nunmero_camas\"].fillna(df[\"numero_camas\"])\n",
    "df[\"nunmero_banos\"] = df[\"nunmero_banos\"].fillna(df[\"numero_banos\"])\n",
    "\n",
    "\n",
    "df = df.drop(columns=[\"numero_camas\", \"numero_banos\"])\n",
    "\n",
    "\n",
    "df.to_csv(\"info_canarias1.csv\", index=False)\n"
   ]
  },
  {
   "cell_type": "code",
   "execution_count": null,
   "id": "733723f2-b760-4cda-8012-e2758b3afd19",
   "metadata": {},
   "outputs": [],
   "source": [
    "#Elimino las columnas que no necesitamos"
   ]
  },
  {
   "cell_type": "code",
   "execution_count": null,
   "id": "61e2cd91-d851-4d1c-8d4e-c3f0ee65136d",
   "metadata": {},
   "outputs": [],
   "source": [
    "df = pd.read_csv(\"info_total_airbnb_pre_limpio.csv\")\n",
    "\n",
    "\n",
    "columnas_eliminar = [\"Unnamed: 0.4\", \"Unnamed: 0.3\", \"Unnamed: 0.2\", \"Unnamed: 0.1\"]\n",
    "\n",
    "\n",
    "columnas_eliminar = [col for col in columnas_eliminar if col in df.columns]\n",
    "\n",
    "\n",
    "df = df.drop(columns=columnas_eliminar)\n",
    "\n",
    "\n",
    "df.to_csv(\"info_total_airbnb_pre_limpio_1.csv\", index=False)\n"
   ]
  },
  {
   "cell_type": "code",
   "execution_count": null,
   "id": "d4c68f9f-8a56-40b0-94de-a1674d72b1b4",
   "metadata": {},
   "outputs": [],
   "source": [
    "#Limpiamos la columna n_evaluaciones de palabras y añadimos en su lugar el promedio de evaluaciones "
   ]
  },
  {
   "cell_type": "code",
   "execution_count": null,
   "id": "d496b44c-d9e4-46db-945d-73183f2ddcca",
   "metadata": {},
   "outputs": [],
   "source": [
    "df = pd.read_csv(\"iinfo_canarias_total.csv\")\n",
    "\n",
    "\n",
    "df[\"n_evaluaciones\"] = pd.to_numeric(df[\"n_evaluaciones\"], errors=\"coerce\")\n",
    "\n",
    "\n",
    "media = int(df[\"n_evaluaciones\"].mean())\n",
    "\n",
    "\n",
    "df[\"n_evaluaciones\"] = df[\"n_evaluaciones\"].fillna(media)\n",
    "\n",
    "\n",
    "df.to_csv(\"info_canarias_total1.csv\", index=False)\n",
    "\n"
   ]
  },
  {
   "cell_type": "code",
   "execution_count": null,
   "id": "0a044e2d-55c1-40cf-b099-a02c240ba8ab",
   "metadata": {},
   "outputs": [],
   "source": [
    "#Unifico piso por palabras"
   ]
  },
  {
   "cell_type": "code",
   "execution_count": null,
   "id": "9ed7cf48-6c9d-4324-b591-a6dc6066b894",
   "metadata": {},
   "outputs": [],
   "source": [
    "df = pd.read_csv(\"info_canarias_total1.csv\")\n",
    "\n",
    "\n",
    "palabras_a_reemplazar = [\"apartamento\", \"suite\", \"vivienda\", \"loft\", \"apto\"]\n",
    "\n",
    "\n",
    "for palabra in palabras_a_reemplazar:\n",
    "    df[\"tipo_alojamineto\"] = df[\"tipo_alojamineto\"].replace(palabra, \"piso\")\n",
    "\n",
    "\n",
    "df.to_csv(\"info_canarias_total2.csv\", index=False)\n"
   ]
  },
  {
   "cell_type": "code",
   "execution_count": null,
   "id": "01dc26f0-dd8b-43ac-8a88-e5b2b4e9bb65",
   "metadata": {},
   "outputs": [],
   "source": [
    "#Unifico casa por palabras"
   ]
  },
  {
   "cell_type": "code",
   "execution_count": null,
   "id": "e7be680c-696a-473e-a8ad-799742d4eab6",
   "metadata": {},
   "outputs": [],
   "source": [
    "df = pd.read_csv(\"info_canarias_total2.csv\")\n",
    "\n",
    "palabras_a_reemplazar = [\"cabaña\", \"casa rural\", \"casa de invitados\", \"adosado\", \"chalet\"]\n",
    "\n",
    "\n",
    "for palabra in palabras_a_reemplazar:\n",
    "    df[\"tipo_alojamineto\"] = df[\"tipo_alojamineto\"].replace(palabra, \"casa\")\n",
    "\n",
    "df.to_csv(\"info_canarias_total3.csv\", index=False)\n"
   ]
  },
  {
   "cell_type": "code",
   "execution_count": null,
   "id": "1c312476-da84-4be6-b92a-92d3ca36cb3c",
   "metadata": {},
   "outputs": [],
   "source": [
    "#Todo lo que no es ni casa ni piso lo transformo a piso"
   ]
  },
  {
   "cell_type": "code",
   "execution_count": null,
   "id": "7235dae3-9e6e-4f20-895c-2d1aa240a714",
   "metadata": {},
   "outputs": [],
   "source": [
    "df = pd.read_csv(\"info_canarias_total3.csv\")\n",
    "\n",
    "\n",
    "df.loc[~df[\"tipo_alojamineto\"].isin([\"casa\", \"piso\"]), \"tipo_alojamineto\"] = \"piso\"\n",
    "\n",
    "\n",
    "df[\"tipo_alojamineto\"] = df[\"tipo_alojamineto\"].fillna(\"piso\")\n",
    "\n",
    "\n",
    "df.to_csv(\"info_canarias_total4.csv\", index=False)\n"
   ]
  },
  {
   "cell_type": "code",
   "execution_count": null,
   "id": "4500614d-8a4e-4ddf-b4fb-27f419f04602",
   "metadata": {},
   "outputs": [],
   "source": [
    "#limpio columna baños quitando palabras y numeros decimales pasados a enteros"
   ]
  },
  {
   "cell_type": "code",
   "execution_count": null,
   "id": "e72c37e8-0a85-4e33-8162-c0c944caf67e",
   "metadata": {},
   "outputs": [],
   "source": [
    "df = pd.read_csv(\"info_canarias_total4.csv\")\n",
    "\n",
    "\n",
    "palabras_eliminar = [\"baño\", \"baños\", \"baño compartido\", \"baño privado\"]\n",
    "\n",
    "\n",
    "for palabra in palabras_eliminar:\n",
    "    df[\"nunmero_banos\"] = df[\"nunmero_banos\"].str.replace(palabra, \"\", case=False)\n",
    "\n",
    "# Guardar el DataFrame\n",
    "df.to_csv(\"info_canarias_total5.csv\", index=False)\n",
    "\n"
   ]
  },
  {
   "cell_type": "code",
   "execution_count": null,
   "id": "ee7717c4-0310-41f1-bd30-8808f5bc87ad",
   "metadata": {},
   "outputs": [],
   "source": [
    "#Sigo eliminando palabras de la columna baños"
   ]
  },
  {
   "cell_type": "code",
   "execution_count": null,
   "id": "38335c1f-c80b-488a-81f9-502061605d5d",
   "metadata": {},
   "outputs": [],
   "source": [
    "df = pd.read_csv(\"info_canarias_total5.csv\")\n",
    "\n",
    "# Lista de palabras a eliminar\n",
    "palabras_eliminar = [\"s\", \"privado\", \"compartido\", \"s compartidos\", \".5\"]\n",
    "\n",
    "# Eliminar las palabras\n",
    "for palabra in palabras_eliminar:\n",
    "    df[\"nunmero_banos\"] = df[\"nunmero_banos\"].str.replace(palabra, \"\", case=False)\n",
    "\n",
    "# Guardar el DataFrame\n",
    "df.to_csv(\"info_canarias_total6.csv\", index=False)\n"
   ]
  },
  {
   "cell_type": "code",
   "execution_count": null,
   "id": "eb0d9ece-4008-45ea-917e-5af899383837",
   "metadata": {},
   "outputs": [],
   "source": [
    "#Sigo limpiando baños"
   ]
  },
  {
   "cell_type": "code",
   "execution_count": null,
   "id": "98f8ce84-2049-45df-82c4-c9b35c0b5553",
   "metadata": {},
   "outputs": [],
   "source": [
    "import pandas as pd\n",
    "\n",
    "df = pd.read_csv(\"info_total_airbnb_5.csv\")\n",
    "\n",
    "# Eliminar la palabra \"aeo\"\n",
    "df = df.replace(\"Aeo\", \"\", regex=True)\n",
    "\n",
    "# Eliminar espacios en blanco al final de cada celda\n",
    "df = df.applymap(lambda x: x.strip() if isinstance(x, str) else x)\n",
    "\n",
    "# Guardar el DataFrame\n",
    "df.to_csv(\"info_total_airbnb_6.csv\", index=False)\n"
   ]
  },
  {
   "cell_type": "code",
   "execution_count": null,
   "id": "da78118a-cd41-4e9e-8a28-03b3c0409c84",
   "metadata": {},
   "outputs": [],
   "source": [
    "#Limpio camas"
   ]
  },
  {
   "cell_type": "code",
   "execution_count": null,
   "id": "c029a1cc-a5b1-4c3c-900e-f443103faee4",
   "metadata": {},
   "outputs": [],
   "source": [
    "df = pd.read_csv(\"info_canarias_total7.csv\")\n",
    "\n",
    "\n",
    "palabras_eliminar = [\"cama\", \"camas\"]\n",
    "\n",
    "for palabra in palabras_eliminar:\n",
    "    df[\"nunmero_camas\"] = df[\"nunmero_camas\"].str.replace(palabra, \"\", case=False)\n",
    "\n",
    "\n",
    "df[\"nunmero_camas\"] = df[\"nunmero_camas\"].str.strip()\n",
    "\n",
    "\n",
    "df.to_csv(\"info_canarias_total8.csv\", index=False)\n"
   ]
  },
  {
   "cell_type": "code",
   "execution_count": null,
   "id": "0525eeab-71f3-4e85-a0a3-bd61608f8bb0",
   "metadata": {},
   "outputs": [],
   "source": [
    "import pandas as pd\n",
    "\n",
    "\n",
    "df = pd.read_csv(\"info_canarias_total8.csv\")\n",
    "\n",
    "\n",
    "df[\"nunmero_camas\"] = df[\"nunmero_camas\"].str.replace(\"s\", \"\", case=False)\n",
    "\n",
    "\n",
    "df[\"nunmero_camas\"] = df[\"nunmero_camas\"].str.strip()\n",
    "\n",
    "df.to_csv(\"info_canarias_total9.csv\", index=False)\n"
   ]
  },
  {
   "cell_type": "code",
   "execution_count": null,
   "id": "cae5cce3-4523-435a-b453-e4d4567c8b3c",
   "metadata": {},
   "outputs": [],
   "source": [
    "#num dormitorios"
   ]
  },
  {
   "cell_type": "code",
   "execution_count": null,
   "id": "05da19c4-1205-446d-960d-30d3c32d7726",
   "metadata": {},
   "outputs": [],
   "source": [
    "df = pd.read_csv(\"info_canarias_total9.csv\")\n",
    "\n",
    "\n",
    "palabras_eliminar = [\"dormitorio\", \"dormitorios\", \"s\"]\n",
    "\n",
    "\n",
    "for palabra in palabras_eliminar:\n",
    "    df[\"n_dormitorios\"] = df[\"n_dormitorios\"].str.replace(palabra, \"\", case=False)\n",
    "\n",
    "\n",
    "df[\"n_dormitorios\"] = df[\"n_dormitorios\"].str.strip()\n",
    "\n",
    "\n",
    "df.to_csv(\"info_canarias_total10.csv\", index=False)\n"
   ]
  },
  {
   "cell_type": "code",
   "execution_count": null,
   "id": "96181d21-6b2e-4597-bc8e-51addc67e700",
   "metadata": {},
   "outputs": [],
   "source": [
    "df = pd.read_csv(\"info_canarias_total10.csv\")\n",
    "\n",
    "df[\"n_dormitorios\"] = df[\"n_dormitorios\"].replace(\"Etudio\", \"0\", regex=True)\n",
    "\n",
    "\n",
    "df.to_csv(\"info_canarias_total11.csv\", index=False)\n"
   ]
  },
  {
   "cell_type": "code",
   "execution_count": null,
   "id": "0b9ef5de-5bec-4ba8-83a3-3885ba65ae0b",
   "metadata": {},
   "outputs": [],
   "source": [
    "#viajeros"
   ]
  },
  {
   "cell_type": "code",
   "execution_count": null,
   "id": "e552466a-f6e4-44e9-b0f0-5260b15e0d36",
   "metadata": {},
   "outputs": [],
   "source": [
    "import pandas as pd\n",
    "\n",
    "\n",
    "df = pd.read_csv(\"info_canarias_total11.csv\")\n",
    "\n",
    "\n",
    "palabras_eliminar = [\"viajeros\", \"viajero\", \"huéspedes o más\"]\n",
    "\n",
    "\n",
    "for palabra in palabras_eliminar:\n",
    "    df[\"n_personas\"] = df[\"n_personas\"].str.replace(palabra, \"\", regex=True)\n",
    "\n",
    "\n",
    "df[\"n_personas\"] = df[\"n_personas\"].str.strip()\n",
    "\n",
    "\n",
    "df.to_csv(\"info_canarias_total12.csv\", index=False)\n"
   ]
  },
  {
   "cell_type": "code",
   "execution_count": null,
   "id": "fd7ae1f9-958e-46a4-8473-81af4c8c448c",
   "metadata": {},
   "outputs": [],
   "source": [
    "#Quito una columna"
   ]
  },
  {
   "cell_type": "code",
   "execution_count": null,
   "id": "a647142a-99fd-40f0-920e-2ef27edd8ac5",
   "metadata": {},
   "outputs": [],
   "source": [
    "df = pd.read_csv(\"info_canarias_total12.csv\")\n",
    "\n",
    "\n",
    "df = df.drop(columns=[\"Unnamed: 0\"])\n",
    "\n",
    "\n",
    "df.to_csv(\"info_canarias_total13.csv\", index=False)\n"
   ]
  },
  {
   "cell_type": "code",
   "execution_count": null,
   "id": "07b6cb9e-a307-4b5c-b195-704fa641fa69",
   "metadata": {},
   "outputs": [],
   "source": [
    "df = pd.read_csv(\"info_canarias13.csv\")\n",
    "\n",
    "\n",
    "df = df.rename(columns={\"nunmero_banos\": \"numero_banos\", \"nunmero_camas\": \"numero_camas\"})\n",
    "\n",
    "\n",
    "df.to_csv(\"info_canarias14.csv\", index=False)\n"
   ]
  },
  {
   "cell_type": "code",
   "execution_count": null,
   "id": "4dcb28da-50b8-47fa-b867-47cc65cc4860",
   "metadata": {},
   "outputs": [],
   "source": [
    "df = pd.read_csv(\"info_canarias_total14.csv\")\n",
    "\n",
    "# Cambiar los nombres de las columnas\n",
    "df = df.rename(columns={ \n",
    "                        \"nunmero_camas\": \"n_camas\", \n",
    "                        \"nunmero_banos\": \"n_banos\"})\n",
    "\n",
    "\n",
    "df.to_csv(\"info_canarias_total15.csv\", index=False)\n"
   ]
  },
  {
   "cell_type": "code",
   "execution_count": null,
   "id": "48e220ce-5eaf-4903-b471-fdd82d10e30b",
   "metadata": {},
   "outputs": [],
   "source": [
    "# Cambiar a formato numero el precio"
   ]
  },
  {
   "cell_type": "code",
   "execution_count": null,
   "id": "7204f122-d942-4713-bd4c-e9bc9be392b0",
   "metadata": {},
   "outputs": [],
   "source": [
    "df = pd.read_csv(\"nfo_canarias_total13.csv\")\n",
    "\n",
    "df[\"precio\"] = df[\"precio\"].str.replace(\"€\", \"\").astype(float)\n",
    "\n",
    "\n",
    "df.to_csv(\"info_canarias_total14.csv\", index=False)\n"
   ]
  },
  {
   "cell_type": "code",
   "execution_count": null,
   "id": "088dbd08-b773-4837-a6a2-999af9258e78",
   "metadata": {},
   "outputs": [],
   "source": [
    "df = pd.read_csv(\"info_total_airbnb_6.csv\")\n",
    "\n",
    "# lista a cambiar\n",
    "columns_to_convert = [\"n_personas\", \"n_dormitorios\", \"n_camas\", \"n_banos\", \"valoracion\", \"n_evaluaciones\"]\n",
    "\n",
    "for column in columns_to_convert:\n",
    "    df[column] = df[column].astype(str).str.replace(\",\", \".\").astype(float)\n",
    "\n",
    "\n",
    "df.to_csv(\"info_total_airbnb_6.csv\", index=False)\n"
   ]
  },
  {
   "cell_type": "code",
   "execution_count": null,
   "id": "c3145551-0f1c-48ea-9075-638fe2fad66e",
   "metadata": {},
   "outputs": [],
   "source": [
    "df = pd.read_csv(\"info_total_airbnb_6.csv\")\n",
    "\n",
    "\n",
    "columns_to_check = [\"n_personas\", \"n_dormitorios\", \"n_camas\", \"n_banos\", \"valoracion\", \"n_evaluaciones\"]\n",
    "\n",
    "\n",
    "for column in columns_to_check:\n",
    "    print(f\"El tipo de datos de la columna {column} es {df[column].dtypes}\")\n"
   ]
  },
  {
   "cell_type": "code",
   "execution_count": null,
   "id": "c726b210-7f8c-4954-89e5-1b4977e4b9d2",
   "metadata": {},
   "outputs": [],
   "source": [
    "#Quitar decimales"
   ]
  },
  {
   "cell_type": "code",
   "execution_count": 2,
   "id": "55c7fa92-1411-441d-8f80-16550fe679a0",
   "metadata": {},
   "outputs": [],
   "source": [
    "import pandas as pd\n",
    "import numpy as np\n",
    "\n",
    "# Cargar los datos del archivo CSV\n",
    "df = pd.read_csv('info_total_airbnb_6.csv')\n",
    "\n",
    "# Lista de columnas a convertir\n",
    "columns_to_convert = ['n_personas', 'n_dormitorios', 'n_camas', 'n_banos', 'n_evaluaciones']\n",
    "\n",
    "# Antes de convertir las columnas a int, asegúrate de que no hay NaN en ellas.\n",
    "# Podrías llenar las celdas NaN con 0 o cualquier otro número dependiendo de tu necesidad.\n",
    "for column in columns_to_convert:\n",
    "    df[column] = df[column].fillna(0)\n",
    "\n",
    "# Convertir las columnas a int\n",
    "for column in columns_to_convert:\n",
    "    df[column] = df[column].astype(int)\n",
    "\n",
    "# Guardar el DataFrame modificado de nuevo a CSV\n",
    "df.to_csv('info_total_airbnb_7.csv', index=False)\n"
   ]
  },
  {
   "cell_type": "code",
   "execution_count": null,
   "id": "10424111-7b14-4336-a306-e80b3bb247a9",
   "metadata": {},
   "outputs": [],
   "source": []
  },
  {
   "cell_type": "code",
   "execution_count": null,
   "id": "8bc10378-c8a6-48fc-b61b-fbaa59456da4",
   "metadata": {},
   "outputs": [],
   "source": []
  },
  {
   "cell_type": "code",
   "execution_count": null,
   "id": "ae2b6bd7-268f-4b09-9357-2198f2815cb8",
   "metadata": {},
   "outputs": [],
   "source": []
  }
 ],
 "metadata": {
  "kernelspec": {
   "display_name": "Python 3 (ipykernel)",
   "language": "python",
   "name": "python3"
  },
  "language_info": {
   "codemirror_mode": {
    "name": "ipython",
    "version": 3
   },
   "file_extension": ".py",
   "mimetype": "text/x-python",
   "name": "python",
   "nbconvert_exporter": "python",
   "pygments_lexer": "ipython3",
   "version": "3.10.9"
  }
 },
 "nbformat": 4,
 "nbformat_minor": 5
}
