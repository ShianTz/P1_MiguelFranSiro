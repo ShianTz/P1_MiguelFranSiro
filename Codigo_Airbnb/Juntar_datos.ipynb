{
 "cells": [
  {
   "cell_type": "code",
   "execution_count": 6,
   "id": "e4d41f6d-9a61-4a9e-b550-e9f1a3736d54",
   "metadata": {},
   "outputs": [],
   "source": [
    "import pandas as pd\n",
    "\n",
    "\n",
    "archivos = [\"info_canarias_total15.csv\", \"airbnb_completo16.csv\"]\n",
    "\n",
    "df_total = pd.concat((pd.read_csv(f) for f in archivos))\n",
    "\n",
    "df_total.to_csv(\"info_total_airbnb_5.csv\", index=False)\n"
   ]
  },
  {
   "cell_type": "code",
   "execution_count": 2,
   "id": "f0d40b3d-5655-4fbf-84c7-2a2486fec391",
   "metadata": {},
   "outputs": [],
   "source": [
    "\n"
   ]
  }
 ],
 "metadata": {
  "kernelspec": {
   "display_name": "Python 3 (ipykernel)",
   "language": "python",
   "name": "python3"
  },
  "language_info": {
   "codemirror_mode": {
    "name": "ipython",
    "version": 3
   },
   "file_extension": ".py",
   "mimetype": "text/x-python",
   "name": "python",
   "nbconvert_exporter": "python",
   "pygments_lexer": "ipython3",
   "version": "3.10.9"
  }
 },
 "nbformat": 4,
 "nbformat_minor": 5
}
